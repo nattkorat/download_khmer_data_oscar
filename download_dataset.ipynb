{
 "cells": [
  {
   "cell_type": "markdown",
   "metadata": {},
   "source": [
    "# Downloading Khmer data from OSCAR\n"
   ]
  },
  {
   "cell_type": "code",
   "execution_count": 2,
   "metadata": {},
   "outputs": [],
   "source": [
    "#!pip install huggingface_hub datasets zstandard"
   ]
  },
  {
   "cell_type": "markdown",
   "metadata": {},
   "source": [
    "**NOTE:** You must have huggingface account and user token. Then You have to request for dataset access from OSCAR Corpus as well."
   ]
  },
  {
   "cell_type": "code",
   "execution_count": 3,
   "metadata": {},
   "outputs": [
    {
     "name": "stdout",
     "output_type": "stream",
     "text": [
      "nattkorat\n"
     ]
    }
   ],
   "source": [
    "# verify huggingface \n",
    "!huggingface-cli whoami"
   ]
  },
  {
   "cell_type": "code",
   "execution_count": 5,
   "metadata": {},
   "outputs": [
    {
     "name": "stderr",
     "output_type": "stream",
     "text": [
      "/home/natt/Desktop/hugging_face/.venv/lib/python3.10/site-packages/datasets/load.py:2483: FutureWarning: 'use_auth_token' was deprecated in favor of 'token' in version 2.14.0 and will be removed in 3.0.0.\n",
      "You can remove this warning by passing 'token=<use_auth_token>' instead.\n",
      "  warnings.warn(\n",
      "/home/natt/Desktop/hugging_face/.venv/lib/python3.10/site-packages/datasets/load.py:1429: FutureWarning: The repository for oscar-corpus/OSCAR-2301 contains custom code which must be executed to correctly load the dataset. You can inspect the repository content at https://hf.co/datasets/oscar-corpus/OSCAR-2301\n",
      "You can avoid this message in future by passing the argument `trust_remote_code=True`.\n",
      "Passing `trust_remote_code=True` will be mandatory to load this dataset from the next major release of `datasets`.\n",
      "  warnings.warn(\n"
     ]
    }
   ],
   "source": [
    "from datasets import load_dataset\n",
    "import json\n",
    "\n",
    "dataset = load_dataset(\n",
    "    'oscar-corpus/OSCAR-2301',\n",
    "    use_auth_token=True,\n",
    "    language = 'km',\n",
    "    streaming=True,\n",
    "    split='train'\n",
    ")\n",
    "\n",
    "# save documents to JSONL file\n",
    "with open('oscar2301_km.jsonl', 'w', encoding='utf-8') as file:\n",
    "    for data in dataset:\n",
    "        file.write(json.dumps(data) + '\\n')"
   ]
  },
  {
   "cell_type": "code",
   "execution_count": 13,
   "metadata": {},
   "outputs": [
    {
     "data": {
      "text/html": [
       "<div>\n",
       "<style scoped>\n",
       "    .dataframe tbody tr th:only-of-type {\n",
       "        vertical-align: middle;\n",
       "    }\n",
       "\n",
       "    .dataframe tbody tr th {\n",
       "        vertical-align: top;\n",
       "    }\n",
       "\n",
       "    .dataframe thead th {\n",
       "        text-align: right;\n",
       "    }\n",
       "</style>\n",
       "<table border=\"1\" class=\"dataframe\">\n",
       "  <thead>\n",
       "    <tr style=\"text-align: right;\">\n",
       "      <th></th>\n",
       "      <th>id</th>\n",
       "      <th>text</th>\n",
       "      <th>meta</th>\n",
       "    </tr>\n",
       "  </thead>\n",
       "  <tbody>\n",
       "    <tr>\n",
       "      <th>0</th>\n",
       "      <td>0</td>\n",
       "      <td>|កំពូលតារាចម្រៀង​ CL និងកំពូលតារាចម្រៀងជាច្រើន...</td>\n",
       "      <td>{'warc_headers': {'warc-record-id': '&lt;urn:uuid...</td>\n",
       "    </tr>\n",
       "    <tr>\n",
       "      <th>1</th>\n",
       "      <td>1</td>\n",
       "      <td>លោក មី សុវណ្ណៈ បង្ហាញពីបទពិសោធន៍បរាជ័យដើម្បីជា...</td>\n",
       "      <td>{'warc_headers': {'warc-record-id': '&lt;urn:uuid...</td>\n",
       "    </tr>\n",
       "    <tr>\n",
       "      <th>2</th>\n",
       "      <td>2</td>\n",
       "      <td>ថវិកាសរុបប្រមាណជាង ៧៨.៧ ពាន់លានរៀលហើយ ដែលរាជរដ...</td>\n",
       "      <td>{'warc_headers': {'warc-record-id': '&lt;urn:uuid...</td>\n",
       "    </tr>\n",
       "    <tr>\n",
       "      <th>3</th>\n",
       "      <td>3</td>\n",
       "      <td>អភិបាលខេត្ត ស្នើឱ្យមន្ទីរកសិកម្ម យកចិត្តទុកដាក...</td>\n",
       "      <td>{'warc_headers': {'warc-record-id': '&lt;urn:uuid...</td>\n",
       "    </tr>\n",
       "    <tr>\n",
       "      <th>4</th>\n",
       "      <td>4</td>\n",
       "      <td>អ្វីៗទាំងអស់ដែលតម្កល់ទុកនៅក្នុង បណ្ណាល័យអេឡិចត...</td>\n",
       "      <td>{'warc_headers': {'warc-record-id': '&lt;urn:uuid...</td>\n",
       "    </tr>\n",
       "    <tr>\n",
       "      <th>5</th>\n",
       "      <td>5</td>\n",
       "      <td>គន្លឹះ​សំខាន់ៗ​ដែល​អ្នក​គួរ​ពិចារណា​មុន​ជ្រើសយ...</td>\n",
       "      <td>{'warc_headers': {'warc-record-id': '&lt;urn:uuid...</td>\n",
       "    </tr>\n",
       "  </tbody>\n",
       "</table>\n",
       "</div>"
      ],
      "text/plain": [
       "   id  ...                                               meta\n",
       "0   0  ...  {'warc_headers': {'warc-record-id': '<urn:uuid...\n",
       "1   1  ...  {'warc_headers': {'warc-record-id': '<urn:uuid...\n",
       "2   2  ...  {'warc_headers': {'warc-record-id': '<urn:uuid...\n",
       "3   3  ...  {'warc_headers': {'warc-record-id': '<urn:uuid...\n",
       "4   4  ...  {'warc_headers': {'warc-record-id': '<urn:uuid...\n",
       "5   5  ...  {'warc_headers': {'warc-record-id': '<urn:uuid...\n",
       "\n",
       "[6 rows x 3 columns]"
      ]
     },
     "execution_count": 13,
     "metadata": {},
     "output_type": "execute_result"
    }
   ],
   "source": [
    "import pandas as pd\n",
    "data_list = []\n",
    "\n",
    "with open('oscar2301_km.jsonl', 'r', encoding='utf-8') as file:\n",
    "    row = 0\n",
    "    for line in file:\n",
    "        if row > 5:\n",
    "            break\n",
    "        data_list.append(json.loads(line.strip()))\n",
    "        row += 1\n",
    "\n",
    "df = pd.DataFrame(data_list)\n",
    "df"
   ]
  },
  {
   "cell_type": "code",
   "execution_count": 17,
   "metadata": {},
   "outputs": [
    {
     "data": {
      "text/plain": [
       "{'warc_headers': {'warc-record-id': '<urn:uuid:9316fdd6-8c79-4cc5-8867-ac5473070e99>',\n",
       "  'warc-date': '2022-11-28T04:18:11Z',\n",
       "  'content-type': 'text/plain',\n",
       "  'content-length': 553324,\n",
       "  'warc-type': 'conversion',\n",
       "  'warc-identified-content-language': 'khm',\n",
       "  'warc-refers-to': '<urn:uuid:964faa41-1c4c-4d01-9eea-66fd4ce0ef5d>',\n",
       "  'warc-target-uri': 'https://khmertomorrow.com/delivery-cambodia-kttalk-kh/',\n",
       "  'warc-block-digest': 'sha1:ERAK7JLPBDSWI2SPP7REYWYGGAR45EXP'},\n",
       " 'identification': {'label': 'km', 'prob': 0.9942478},\n",
       " 'harmful_pp': None,\n",
       " 'tlsh': 'tlsh:T1E10927C4B064AA7727EF2DFDD0706478247A93A7AF54D4EFFF10E164E4D046FC99ABC92221505E947DB9043EB3C321DB2F8849AC8E228D5964CB685D3EDEEDA5F23920104C',\n",
       " 'quality_warnings': ['tiny'],\n",
       " 'categories': None,\n",
       " 'sentence_identifications': [{'label': 'km', 'prob': 0.99403805},\n",
       "  {'label': 'km', 'prob': 0.9943385}]}"
      ]
     },
     "execution_count": 17,
     "metadata": {},
     "output_type": "execute_result"
    }
   ],
   "source": [
    "data_list[0]['meta']"
   ]
  }
 ],
 "metadata": {
  "kernelspec": {
   "display_name": ".venv",
   "language": "python",
   "name": "python3"
  },
  "language_info": {
   "codemirror_mode": {
    "name": "ipython",
    "version": 3
   },
   "file_extension": ".py",
   "mimetype": "text/x-python",
   "name": "python",
   "nbconvert_exporter": "python",
   "pygments_lexer": "ipython3",
   "version": "3.10.12"
  }
 },
 "nbformat": 4,
 "nbformat_minor": 2
}
